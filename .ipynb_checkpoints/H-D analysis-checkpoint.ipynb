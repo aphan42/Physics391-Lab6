{
 "cells": [
  {
   "cell_type": "code",
   "execution_count": 235,
   "metadata": {},
   "outputs": [],
   "source": [
    "import pandas as pd\n",
    "import numpy as np\n",
    "import matplotlib.pyplot as plt\n",
    "from scipy.optimize import curve_fit\n",
    "hd_dataset1 = pd.read_csv('h-d-run1.csv')\n",
    "hd_dataset2 = pd.read_csv('h-d-run2.csv')"
   ]
  },
  {
   "cell_type": "code",
   "execution_count": 236,
   "metadata": {},
   "outputs": [],
   "source": [
    "deuterium_datasets_1 = []\n",
    "hydrogen_datasets_1 = []\n",
    "for i in range(1, 6):\n",
    "    x = np.array([hd_dataset1['Run ' + str(i) + ': Wavelength (nm)'], hd_dataset1['Run ' + str(i) + ': Intensity (rel)']])\n",
    "    deuterium_datasets_1.append(x)\n",
    "\n",
    "for i in range(6, 11):\n",
    "    x = np.array([hd_dataset1['Run ' + str(i) + ': Wavelength (nm)'], hd_dataset1['Run ' + str(i) + ': Intensity (rel)']])\n",
    "    hydrogen_datasets_1.append(x)\n",
    "    \n",
    "deuterium_datasets_2 = []\n",
    "hydrogen_datasets_2 = []\n",
    "\n",
    "for i in range(1, 6):\n",
    "    x = np.array([hd_dataset2['Run ' + str(i) + ': Wavelength (nm)'], hd_dataset2['Run ' + str(i) + ': Intensity (rel)']])\n",
    "    deuterium_datasets_2.append(x)\n",
    "\n",
    "for i in range(6, 11):\n",
    "    x = np.array([hd_dataset2['Run ' + str(i) + ': Wavelength (nm)'], hd_dataset2['Run ' + str(i) + ': Intensity (rel)']])\n",
    "    hydrogen_datasets_2.append(x)"
   ]
  },
  {
   "cell_type": "code",
   "execution_count": 215,
   "metadata": {},
   "outputs": [],
   "source": [
    "def gaussian_fit(x, a, b, delta, sigma):\n",
    "    frac_exp = ((x - (656 + delta))**2)/(2*sigma*sigma) * -1\n",
    "    return a + b*np.exp(frac_exp)"
   ]
  },
  {
   "cell_type": "code",
   "execution_count": 216,
   "metadata": {},
   "outputs": [],
   "source": [
    "class FitInformation:\n",
    "    def __init__(self, wavelength, intensity, fitvals):\n",
    "        self.wav = wavelength\n",
    "        self.int_ = intensity\n",
    "        self.fit = fitvals\n",
    "    \n",
    "    def plot_(self, point_style, dash_style):\n",
    "        plt.plot(self.wav, self.int_, point_style)\n",
    "        plt.plot(self.wav, gaussian_fit(self.wav, *(self.fit)), dash_style)\n"
   ]
  },
  {
   "cell_type": "code",
   "execution_count": 229,
   "metadata": {},
   "outputs": [],
   "source": [
    "def estimate_h_alpha_peak(dataset):\n",
    "    hydrogen_isotope_combined_dataset = np.array(np.empty_like(dataset[0]))\n",
    "    hydrogen_isotope_combined_dataset.fill(0)\n",
    "    hydrogen_isotope_combined_dataset[0] = dataset[0][0]\n",
    "    for hydrogen_isotope_trial in dataset:\n",
    "        hydrogen_isotope_combined_dataset[1] += hydrogen_isotope_trial[1]\n",
    "    hydrogen_peak_average = (np.sum(hydrogen_isotope_combined_dataset[0] * hydrogen_isotope_combined_dataset[1]))\n",
    "    hydrogen_peak_average = hydrogen_peak_average / (np.sum(hydrogen_isotope_combined_dataset[1]))\n",
    "    print('average peak value: ' + str(hydrogen_peak_average))\n",
    "    popt, pcov = curve_fit(gaussian_fit, hydrogen_isotope_combined_dataset[0], hydrogen_isotope_combined_dataset[1], \n",
    "                           p0=[0, 1, (656. - hydrogen_peak_average), (hydrogen_peak_average/100)], maxfev=6000)\n",
    "    print('fit values: a: ' + str(popt[0]) + ' b: ' + str(popt[1]) + \n",
    "      ' delta: ' + str(popt[2]) + ' sigma: ' + str(popt[3]))\n",
    "    return FitInformation(hydrogen_isotope_combined_dataset[0], hydrogen_isotope_combined_dataset[1], popt)"
   ]
  },
  {
   "cell_type": "code",
   "execution_count": 241,
   "metadata": {},
   "outputs": [
    {
     "name": "stdout",
     "output_type": "stream",
     "text": [
      "average peak value: 655.5203908770407\n",
      "fit values: a: 0.08187791864134497 b: 4.7337549769521825 delta: -0.4584893934554678 sigma: 0.5495820910546667\n",
      "average peak value: 655.7810485861536\n",
      "fit values: a: 0.1061803781194474 b: 5.045093581924349 delta: -0.17109198251494376 sigma: 0.38064072438374535\n"
     ]
    },
    {
     "data": {
      "image/png": "[encoded data removed]",
      "text/plain": [
       "<matplotlib.figure.Figure at 0x7bf83f0>"
      ]
     },
     "metadata": {},
     "output_type": "display_data"
    }
   ],
   "source": [
    "deut_est_1 = estimate_h_alpha_peak(deuterium_datasets_1)\n",
    "hydr_est_1 = estimate_h_alpha_peak(hydrogen_datasets_1)\n",
    "deut_est_1.plot_('ro', 'r--')\n",
    "hydr_est_1.plot_('go', 'g--')\n",
    "plt.show()"
   ]
  },
  {
   "cell_type": "code",
   "execution_count": 233,
   "metadata": {},
   "outputs": [
    {
     "name": "stdout",
     "output_type": "stream",
     "text": [
      "0.28739741094052407\n",
      "59.66522830029115\n"
     ]
    }
   ],
   "source": [
    "# estimate of the difference between peak of hydrogen and deuterium\n",
    "# and percent error\n",
    "estimated_peak_diff = hydr_est_1.fit[2] - deut_est_1.fit[2]\n",
    "theoretical_peak_dif = 0.18\n",
    "print(estimated_peak_diff)\n",
    "percent_error = np.absolute((estimated_peak_diff - theoretical_peak_dif)/(theoretical_peak_dif))\n",
    "print(percent_error * 100)"
   ]
  },
  {
   "cell_type": "code",
   "execution_count": 240,
   "metadata": {},
   "outputs": [
    {
     "name": "stdout",
     "output_type": "stream",
     "text": [
      "average peak value: 655.4239841587862\n",
      "fit values: a: 0.08513568732705604 b: 4.642053078087716 delta: -0.6021783761806049 sigma: -0.548002925492763\n",
      "average peak value: 655.7958147813883\n",
      "fit values: a: 0.10508637422435195 b: 4.857479646275718 delta: -0.1578255852620215 sigma: -0.3674753995062866\n"
     ]
    },
    {
     "data": {
      "image/png": "[encoded data removed]",
      "text/plain": [
       "<matplotlib.figure.Figure at 0x2fecd10>"
      ]
     },
     "metadata": {},
     "output_type": "display_data"
    }
   ],
   "source": [
    "# trial 2\n",
    "deut_est_2 = estimate_h_alpha_peak(deuterium_datasets_2)\n",
    "hydr_est_2 = estimate_h_alpha_peak(hydrogen_datasets_2)\n",
    "deut_est_2.plot_('ro', 'r--')\n",
    "hydr_est_2.plot_('go', 'g--')\n",
    "plt.show()"
   ]
  },
  {
   "cell_type": "code",
   "execution_count": 239,
   "metadata": {},
   "outputs": [
    {
     "name": "stdout",
     "output_type": "stream",
     "text": [
      "0.4443527909185834\n",
      "146.86266162143522\n"
     ]
    }
   ],
   "source": [
    "# estimate of the difference between peak of hydrogen and deuterium\n",
    "# and percent error\n",
    "estimated_peak_diff = hydr_est_2.fit[2] - deut_est_2.fit[2]\n",
    "theoretical_peak_dif = 0.18\n",
    "print(estimated_peak_diff)\n",
    "percent_error = np.absolute((estimated_peak_diff - theoretical_peak_dif)/(theoretical_peak_dif))\n",
    "print(percent_error * 100)"
   ]
  },
  {
   "cell_type": "code",
   "execution_count": null,
   "metadata": {},
   "outputs": [],
   "source": []
  }
 ],
 "metadata": {
  "kernelspec": {
   "display_name": "Python 3",
   "language": "python",
   "name": "python3"
  },
  "language_info": {
   "codemirror_mode": {
    "name": "ipython",
    "version": 3
   },
   "file_extension": ".py",
   "mimetype": "text/x-python",
   "name": "python",
   "nbconvert_exporter": "python",
   "pygments_lexer": "ipython3",
   "version": "3.6.4"
  }
 },
 "nbformat": 4,
 "nbformat_minor": 2
}
